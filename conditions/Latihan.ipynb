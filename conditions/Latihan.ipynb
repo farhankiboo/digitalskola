{
 "cells": [
  {
   "cell_type": "code",
   "execution_count": 2,
   "metadata": {},
   "outputs": [
    {
     "name": "stdout",
     "output_type": "stream",
     "text": [
      "Hello Wold\n"
     ]
    }
   ],
   "source": [
    "print(\"Hello Wold\")"
   ]
  },
  {
   "cell_type": "code",
   "execution_count": 48,
   "metadata": {},
   "outputs": [],
   "source": [
    "class Cat:\n",
    "    def __init__(self, name, age):\n",
    "        self.name = name\n",
    "        self.age = age\n",
    "    \n",
    "    Cat(\"Kitty\", 3)"
   ]
  },
  {
   "cell_type": "code",
   "execution_count": 1,
   "metadata": {},
   "outputs": [
    {
     "ename": "TypeError",
     "evalue": "__init__() missing 2 required positional arguments: 'name' and 'age'",
     "output_type": "error",
     "traceback": [
      "\u001b[1;31m---------------------------------------------------------------------------\u001b[0m",
      "\u001b[1;31mTypeError\u001b[0m                                 Traceback (most recent call last)",
      "Cell \u001b[1;32mIn [1], line 6\u001b[0m\n\u001b[0;32m      3\u001b[0m         \u001b[38;5;28mself\u001b[39m\u001b[38;5;241m.\u001b[39mname \u001b[38;5;241m=\u001b[39m name\n\u001b[0;32m      4\u001b[0m         \u001b[38;5;28mself\u001b[39m\u001b[38;5;241m.\u001b[39mage \u001b[38;5;241m=\u001b[39m age\n\u001b[1;32m----> 6\u001b[0m \u001b[43mTes\u001b[49m\u001b[43m(\u001b[49m\u001b[43m)\u001b[49m\n",
      "\u001b[1;31mTypeError\u001b[0m: __init__() missing 2 required positional arguments: 'name' and 'age'"
     ]
    }
   ],
   "source": [
    "class Tes:\n",
    "    def __init__(self, name, age):\n",
    "        self.name = name\n",
    "        self.age = age\n",
    "    \n",
    "Tes()"
   ]
  },
  {
   "cell_type": "code",
   "execution_count": 71,
   "metadata": {},
   "outputs": [
    {
     "data": {
      "text/plain": [
       "5"
      ]
     },
     "execution_count": 71,
     "metadata": {},
     "output_type": "execute_result"
    }
   ],
   "source": [
    "from os import name\n",
    "\n",
    "\n",
    "class Dog:\n",
    "    species = \"Canis familiaris\"\n",
    "    def __init__(self, name, age):\n",
    "        self.name = name\n",
    "        self.age = age\n",
    "    \n",
    "buddy = Dog(\"Buddy\", 5)\n",
    "buddy.name\n",
    "buddy.age"
   ]
  },
  {
   "cell_type": "code",
   "execution_count": 57,
   "metadata": {},
   "outputs": [
    {
     "name": "stdout",
     "output_type": "stream",
     "text": [
      "*Walking*\n"
     ]
    }
   ],
   "source": [
    "class Dog:\n",
    "    def walk(self):\n",
    "        return \"*Walking*\"\n",
    "\n",
    "    def speak(self):\n",
    "        return \"Woof!\"\n",
    "\n",
    "class JackRussellTerrier(Dog):\n",
    "    def speak(self):\n",
    "        return \"Arff!\"\n",
    "\n",
    "bobo = JackRussellTerrier()\n",
    "print(bobo.walk())"
   ]
  },
  {
   "cell_type": "code",
   "execution_count": 59,
   "metadata": {},
   "outputs": [
    {
     "name": "stdout",
     "output_type": "stream",
     "text": [
      "15\n"
     ]
    }
   ],
   "source": [
    "def outer_fun(a, b):\n",
    "    def inner_fun(c, d):\n",
    "        return c + d\n",
    "    return inner_fun(a, b)\n",
    "\n",
    "res = outer_fun(5, 10)\n",
    "print(res)"
   ]
  },
  {
   "cell_type": "code",
   "execution_count": 61,
   "metadata": {},
   "outputs": [
    {
     "name": "stdout",
     "output_type": "stream",
     "text": [
      "(8, 7)\n"
     ]
    }
   ],
   "source": [
    "def add(a, b):\n",
    "    return a+5, b+5\n",
    "result = add(3, 2)\n",
    "print(result )"
   ]
  },
  {
   "cell_type": "code",
   "execution_count": 63,
   "metadata": {},
   "outputs": [
    {
     "name": "stdout",
     "output_type": "stream",
     "text": [
      "Emma 25\n"
     ]
    }
   ],
   "source": [
    "def fun1(name, age=20):\n",
    "    print(name, age)\n",
    "fun1('Emma', 25)"
   ]
  },
  {
   "cell_type": "code",
   "execution_count": 3,
   "metadata": {},
   "outputs": [],
   "source": [
    "class Dog:\n",
    "    species = \"Canis familiaris\"\n",
    "    def __init__(self, name, age):\n",
    "        self.name = name\n",
    "        self.age = age\n",
    "\n",
    "buddy = Dog(\"Buddy\", 5)"
   ]
  },
  {
   "cell_type": "code",
   "execution_count": 8,
   "metadata": {},
   "outputs": [
    {
     "ename": "SyntaxError",
     "evalue": "unexpected EOF while parsing (607341155.py, line 19)",
     "output_type": "error",
     "traceback": [
      "\u001b[1;36m  Cell \u001b[1;32mIn [8], line 19\u001b[1;36m\u001b[0m\n\u001b[1;33m    \u001b[0m\n\u001b[1;37m    ^\u001b[0m\n\u001b[1;31mSyntaxError\u001b[0m\u001b[1;31m:\u001b[0m unexpected EOF while parsing\n"
     ]
    }
   ],
   "source": [
    "class Hewan:\n",
    "\n",
    "    #class attributes & instance attributes\n",
    "    def nama_latin (self, nama, umur):\n",
    "        self.nama = nama\n",
    "        self.umur = umur\n",
    "\n",
    "    #instance method\n",
    "    def bangun(self):\n",
    "        print(self.nama, self.umur, Hewan.nama_latin)\n",
    "\n",
    "#class method\n",
    "@classmethod\n",
    "def change_nama_latin(cls, nama):\n",
    "    cls.change_nama_latin = nama\n",
    "\n",
    "class Kucing(Hewan):\n",
    "    def change_nama_latin(self):\n",
    "\n"
   ]
  },
  {
   "cell_type": "code",
   "execution_count": 26,
   "metadata": {},
   "outputs": [
    {
     "ename": "KeyboardInterrupt",
     "evalue": "Interrupted by user",
     "output_type": "error",
     "traceback": [
      "\u001b[1;31m---------------------------------------------------------------------------\u001b[0m",
      "\u001b[1;31mKeyboardInterrupt\u001b[0m                         Traceback (most recent call last)",
      "Cell \u001b[1;32mIn [26], line 20\u001b[0m\n\u001b[0;32m     17\u001b[0m     \u001b[38;5;28;01mdef\u001b[39;00m \u001b[38;5;21mlari\u001b[39m(\u001b[38;5;28mself\u001b[39m, kecepatan):\n\u001b[0;32m     18\u001b[0m         \u001b[38;5;28;01mreturn\u001b[39;00m \u001b[38;5;124m\"\u001b[39m\u001b[38;5;132;01m{}\u001b[39;00m\u001b[38;5;124m kecepatan \u001b[39m\u001b[38;5;132;01m{}\u001b[39;00m\u001b[38;5;124m\"\u001b[39m\u001b[38;5;241m.\u001b[39mformat(\u001b[38;5;28mself\u001b[39m\u001b[38;5;241m.\u001b[39mnama, kecepatan)\n\u001b[1;32m---> 20\u001b[0m kecepatan \u001b[38;5;241m=\u001b[39m \u001b[38;5;28;43minput\u001b[39;49m\u001b[43m(\u001b[49m\u001b[38;5;124;43m\"\u001b[39;49m\u001b[38;5;124;43mberapa kecepatanmu: \u001b[39;49m\u001b[38;5;124;43m\"\u001b[39;49m\u001b[43m)\u001b[49m\n\u001b[0;32m     21\u001b[0m \u001b[38;5;28mprint\u001b[39m(kecepatan\u001b[38;5;241m.\u001b[39mdescription())\n\u001b[0;32m     23\u001b[0m \u001b[38;5;28mprint\u001b[39m(kecepatan\u001b[38;5;241m.\u001b[39mlari(\u001b[38;5;124m\"\u001b[39m\u001b[38;5;124mcepat sekali\u001b[39m\u001b[38;5;124m\"\u001b[39m))\n",
      "File \u001b[1;32m~\\AppData\\Roaming\\Python\\Python38\\site-packages\\ipykernel\\kernelbase.py:1177\u001b[0m, in \u001b[0;36mKernel.raw_input\u001b[1;34m(self, prompt)\u001b[0m\n\u001b[0;32m   1173\u001b[0m \u001b[39mif\u001b[39;00m \u001b[39mnot\u001b[39;00m \u001b[39mself\u001b[39m\u001b[39m.\u001b[39m_allow_stdin:\n\u001b[0;32m   1174\u001b[0m     \u001b[39mraise\u001b[39;00m StdinNotImplementedError(\n\u001b[0;32m   1175\u001b[0m         \u001b[39m\"\u001b[39m\u001b[39mraw_input was called, but this frontend does not support input requests.\u001b[39m\u001b[39m\"\u001b[39m\n\u001b[0;32m   1176\u001b[0m     )\n\u001b[1;32m-> 1177\u001b[0m \u001b[39mreturn\u001b[39;00m \u001b[39mself\u001b[39;49m\u001b[39m.\u001b[39;49m_input_request(\n\u001b[0;32m   1178\u001b[0m     \u001b[39mstr\u001b[39;49m(prompt),\n\u001b[0;32m   1179\u001b[0m     \u001b[39mself\u001b[39;49m\u001b[39m.\u001b[39;49m_parent_ident[\u001b[39m\"\u001b[39;49m\u001b[39mshell\u001b[39;49m\u001b[39m\"\u001b[39;49m],\n\u001b[0;32m   1180\u001b[0m     \u001b[39mself\u001b[39;49m\u001b[39m.\u001b[39;49mget_parent(\u001b[39m\"\u001b[39;49m\u001b[39mshell\u001b[39;49m\u001b[39m\"\u001b[39;49m),\n\u001b[0;32m   1181\u001b[0m     password\u001b[39m=\u001b[39;49m\u001b[39mFalse\u001b[39;49;00m,\n\u001b[0;32m   1182\u001b[0m )\n",
      "File \u001b[1;32m~\\AppData\\Roaming\\Python\\Python38\\site-packages\\ipykernel\\kernelbase.py:1219\u001b[0m, in \u001b[0;36mKernel._input_request\u001b[1;34m(self, prompt, ident, parent, password)\u001b[0m\n\u001b[0;32m   1216\u001b[0m             \u001b[39mbreak\u001b[39;00m\n\u001b[0;32m   1217\u001b[0m \u001b[39mexcept\u001b[39;00m \u001b[39mKeyboardInterrupt\u001b[39;00m:\n\u001b[0;32m   1218\u001b[0m     \u001b[39m# re-raise KeyboardInterrupt, to truncate traceback\u001b[39;00m\n\u001b[1;32m-> 1219\u001b[0m     \u001b[39mraise\u001b[39;00m \u001b[39mKeyboardInterrupt\u001b[39;00m(\u001b[39m\"\u001b[39m\u001b[39mInterrupted by user\u001b[39m\u001b[39m\"\u001b[39m) \u001b[39mfrom\u001b[39;00m \u001b[39mNone\u001b[39m\n\u001b[0;32m   1220\u001b[0m \u001b[39mexcept\u001b[39;00m \u001b[39mException\u001b[39;00m:\n\u001b[0;32m   1221\u001b[0m     \u001b[39mself\u001b[39m\u001b[39m.\u001b[39mlog\u001b[39m.\u001b[39mwarning(\u001b[39m\"\u001b[39m\u001b[39mInvalid Message:\u001b[39m\u001b[39m\"\u001b[39m, exc_info\u001b[39m=\u001b[39m\u001b[39mTrue\u001b[39;00m)\n",
      "\u001b[1;31mKeyboardInterrupt\u001b[0m: Interrupted by user"
     ]
    }
   ],
   "source": [
    "class Hewan:\n",
    "\n",
    "#class attributes \n",
    "    nama_latin = 0\n",
    "\n",
    "# instance attributes\n",
    "    def __init__ (self, nama, umur):\n",
    "        self.nama = nama\n",
    "        self.umur = umur\n",
    "\n",
    "#instance method\n",
    "    def bangun(self):\n",
    "        pass\n",
    "\n",
    "#child class\n",
    "class Kucing(Hewan):\n",
    "    def lari(self, kecepatan):\n",
    "        return \"{} kecepatan {}\".format(self.nama, kecepatan)\n",
    "\n",
    "kecepatans = input(\"berapa kecepatanmu: \")\n",
    "print(kecepatans.description())\n",
    "\n",
    "print(kecepatans.lari(\"cepat sekali\"))\n",
    "\n",
    "#         if kecepatan > 10:\n",
    "#             print(\"Cepat sekali\")\n",
    "#         else:\n",
    "#             print(\"lambat\")\n",
    "\n",
    "\n",
    "# @classmethod\n",
    "# def change_nama_latin(cls, nama):\n",
    "#     print (Hewan.nama_latin)\n",
    "#     Hewan.nama_latin = nama\n",
    "\n",
    "\n",
    "\n",
    "\n",
    "\n"
   ]
  },
  {
   "cell_type": "code",
   "execution_count": 3,
   "metadata": {},
   "outputs": [
    {
     "name": "stdout",
     "output_type": "stream",
     "text": [
      "Jim is 12 years old\n",
      "Jim runs slowly\n"
     ]
    }
   ],
   "source": [
    "# Parent class\n",
    "class Dog:\n",
    "# class attribute\n",
    "    species = 'mammal'\n",
    "# Initializer / Instance attributes\n",
    "    def __init__(self, name, age):\n",
    "        self.name = name\n",
    "        self.age = age\n",
    "# instance method\n",
    "    def description(self):\n",
    "        return \"{} is {} years old\".format(self.name, self.age)\n",
    "# instance method\n",
    "    def speak(self, sound):\n",
    "        return \"{} says {}\".format(self.name, sound)\n",
    "# Child class (inherits from Dog class)\n",
    "class RussellTerrier(Dog):\n",
    "    def run(self, speed):\n",
    "        return \"{} runs {}\".format(self.name, speed)\n",
    "# Child class (inherits from Dog class)\n",
    "class BullDog(Dog):\n",
    "    def run(self, speed):\n",
    "        return \"{} runs {}\".format(self.name, speed)\n",
    "# Child classes inherit attributes and\n",
    "# behaviors from the parent class\n",
    "jim = BullDog(\"Jim\", 12)\n",
    "print(jim.description())\n",
    "# Child classes have specific attributes\n",
    "# and behaviors as well\n",
    "print(jim.run(\"slowly\"))"
   ]
  },
  {
   "cell_type": "code",
   "execution_count": 4,
   "metadata": {},
   "outputs": [
    {
     "name": "stdout",
     "output_type": "stream",
     "text": [
      "None\n",
      "kucing lari cepat sekali\n"
     ]
    }
   ],
   "source": [
    "# Parent class\n",
    "class Hewan:\n",
    "# class attribute\n",
    "    nama_latin = \"Felis catus\"\n",
    "# Initializer / Instance attributes\n",
    "    def __init__(self, nama, umur):\n",
    "        self.nama = nama\n",
    "        self.umur = umur\n",
    "# instance method\n",
    "    def bangun(self):\n",
    "        pass        #return \"{} is {} years old\".format(self.nama, self.umur)\n",
    "# # instance method\n",
    "#     def speak(self, sound):\n",
    "#         return \"{} says {}\".format(self.name, sound)\n",
    "\n",
    "# Child class (inherits from Hewan class)\n",
    "class Kucing(Hewan):\n",
    "    def lari(self, kecepatan):\n",
    "        return \"{} lari {}\".format(self.nama, kecepatan)\n",
    "\n",
    "# Child classes inherit attributes and\n",
    "# behaviors from the parent class\n",
    "kucing = Kucing(\"kucing\", 10)\n",
    "print(kucing.bangun())\n",
    "# Child classes have specific attributes\n",
    "# and behaviors as well\n",
    "print(kucing.lari(\"cepat sekali\"))"
   ]
  },
  {
   "cell_type": "code",
   "execution_count": 39,
   "metadata": {},
   "outputs": [
    {
     "name": "stdout",
     "output_type": "stream",
     "text": [
      "Nama Hewan ini: Felis catus\n",
      "Kecepatan Hewan ini, lambat\n"
     ]
    }
   ],
   "source": [
    "# Parent class\n",
    "class Hewan:\n",
    "\n",
    "# class attribute\n",
    "    nama_latin = \"Felis catus\"\n",
    "    print(nama_latin)\n",
    "\n",
    "# Initializer / Instance attributes\n",
    "    def __init__(self, nama, umur):\n",
    "        self.nama = nama\n",
    "        self.umur = umur\n",
    "\n",
    "# instance method\n",
    "    def bangun(self):\n",
    "        return f\"{self.nama} berumur {self.umur} tahun\"\n",
    "\n",
    "#class method\n",
    "@classmethod\n",
    "def change_nama_latin(self):\n",
    "    self.nama_latin = self.nama\n",
    "    return\n",
    "\n",
    "# Child class (inherits from Hewan class)\n",
    "class Kucing(Hewan):\n",
    "    def lari(a):\n",
    "        if (a > 10):\n",
    "            return 'cepat sekali'\n",
    "        else:\n",
    "            return 'lambat'\n",
    "\n",
    "kucing = Kucing(\"kucing\", 10)\n",
    "print(\"Nama Hewan ini: \"+kucing.nama_latin)\n",
    "b = int(input(\"Masukan Kecepatan: \"))\n",
    "print(\"Kecepatan Hewan ini, \" + Kucing.lari(a = b))\n"
   ]
  },
  {
   "cell_type": "code",
   "execution_count": 17,
   "metadata": {},
   "outputs": [
    {
     "name": "stdout",
     "output_type": "stream",
     "text": [
      "Nama Hewan : kucing\n",
      "Hewan ini, Cepat sekali\n"
     ]
    }
   ],
   "source": [
    "class hewan():\n",
    "    # Attribut\n",
    "    nama_latin = \"Macan\"\n",
    "\n",
    "    def __init__(self,name,age):\n",
    "        self.name = name\n",
    "        self.age = age\n",
    "\n",
    "    ##class method\n",
    "    def change_nama_latin (self):\n",
    "        self.nama_latin = self.name\n",
    "        return\n",
    "\n",
    "class kucing(hewan):\n",
    "    pass\n",
    "\n",
    "    def bangun(self):\n",
    "        return\n",
    "    def lari(a):\n",
    "        if (a > 10) :\n",
    "            return \"Cepat sekali\"\n",
    "        else:\n",
    "            return \"Lambat\"\n",
    "\n",
    "x = kucing(\"kucing\", 30)\n",
    "x.change_nama_latin()\n",
    "print(\"Nama Hewan : \" +x.nama_latin)\n",
    "b  = int(input(\"Masukan Kecepatan :\"))\n",
    "print(\"Hewan ini, \" + kucing.lari(a = b ))"
   ]
  }
 ],
 "metadata": {
  "kernelspec": {
   "display_name": "Python 3.8.0 64-bit",
   "language": "python",
   "name": "python3"
  },
  "language_info": {
   "codemirror_mode": {
    "name": "ipython",
    "version": 3
   },
   "file_extension": ".py",
   "mimetype": "text/x-python",
   "name": "python",
   "nbconvert_exporter": "python",
   "pygments_lexer": "ipython3",
   "version": "3.8.14"
  },
  "orig_nbformat": 4,
  "vscode": {
   "interpreter": {
    "hash": "2cc3b96ac29d8752a2a463e2fd6d290b19099fa4aa7b583203a3aa990d13887b"
   }
  }
 },
 "nbformat": 4,
 "nbformat_minor": 2
}
